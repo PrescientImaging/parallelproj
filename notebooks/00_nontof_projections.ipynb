{
  "cells": [
    {
      "cell_type": "code",
      "execution_count": null,
      "metadata": {},
      "outputs": [],
      "source": [
        "from pathlib import Path\n",
        "\n",
        "if not Path('colab_utils.py').exists():\n",
        "    !wget https://raw.githubusercontent.com/gschramm/parallelproj/master/notebooks/notebook_utils_parallelproj.py"
      ]
    },
    {
      "cell_type": "code",
      "execution_count": null,
      "metadata": {
        "id": "Cq6_lFn7c6la"
      },
      "outputs": [],
      "source": [
        "# check if we are running in google colab\n",
        "# if we are running in colab, we install conda/mamba\n",
        "\n",
        "import sys\n",
        "import subprocess\n",
        "from colab_utils import in_colab\n",
        "\n",
        "if in_colab():\n",
        "    subprocess.run([sys.executable, '-m', 'pip', 'install', 'condacolab'])\n",
        "    import condacolab\n",
        "    condacolab.install()\n",
        "\n",
        " # the kernel gets restarted here (after conda install)\n",
        " # so all variables are deleted if you run this cell"
      ]
    },
    {
      "cell_type": "code",
      "execution_count": null,
      "metadata": {},
      "outputs": [],
      "source": [
        "# if we we are running in colab, we install parallelproj from conda-forge\n",
        "# and set the environment variable for the parallelproj c/cuda library\n",
        "# we need to redo the check for COLAB, because the install\n",
        "# of conda on colab, restarts the kernel and deletes all variables\n",
        "import os\n",
        "import subprocess\n",
        "from colab_utils import in_colab\n",
        "from distutils.spawn import find_executable\n",
        "CUDA_PRESENT = find_executable('nvidia-smi') is not None \n",
        "\n",
        "if in_colab():\n",
        "    subprocess.run(['mamba', 'install', 'parallelproj'])\n",
        "    os.environ['PARALLELPROJ_C_LIB']='/usr/local/lib/libparallelproj_c.so'\n",
        "    if CUDA_PRESENT:\n",
        "        os.environ['PARALLELPROJ_CUDA_LIB']='/usr/local/lib/libparallelproj_cuda.so'\n",
        "        subprocess.run(['mamba', 'install', 'cupy'])\n",
        "\n",
        "print(f'notebook running in google colab: {in_colab()}')\n",
        "print(f'cuda present: {CUDA_PRESENT}')"
      ]
    },
    {
      "cell_type": "code",
      "execution_count": null,
      "metadata": {
        "id": "ayeJcdbRknDP"
      },
      "outputs": [],
      "source": [
        "import numpy as np\n",
        "import matplotlib.pyplot as plt\n",
        "from matplotlib.patches import Rectangle\n",
        "import parallelproj\n",
        "from notebook_utils_parallelproj import tonumpy\n",
        "\n",
        "if parallelproj.cupy_enabled:\n",
        "    import cupy as cp\n",
        "    import cupy as xp\n",
        "else:\n",
        "    import numpy as xp"
      ]
    },
    {
      "cell_type": "code",
      "execution_count": null,
      "metadata": {
        "id": "TP60uvgHm3_f"
      },
      "outputs": [],
      "source": [
        "# setup a test image\n",
        "\n",
        "# image dimensions\n",
        "n0, n1, n2 = (1, 128, 128)\n",
        "img_dim = (n0, n1, n2)\n",
        "\n",
        "# voxel size of the image\n",
        "voxel_size = xp.array([2., 2., 2.]).astype(xp.float32)\n",
        "\n",
        "# image origin -> world coordinates of the [0,0,0] voxel\n",
        "img_origin = ((-xp.array(img_dim) / 2 + 0.5) * voxel_size).astype(xp.float32)\n",
        "\n",
        "# setup a random image\n",
        "img = xp.zeros((n0,n1,n2)).astype(xp.float32)\n",
        "img[:,(n1//4):((3*n1)//4), (n2//4):((3*n2)//4)] = 1\n",
        "img[:,(n1//4):(n1//3), (n2//4):(n2//3)] = 3\n"
      ]
    },
    {
      "cell_type": "code",
      "execution_count": null,
      "metadata": {
        "id": "fLvJs_jhpbEG"
      },
      "outputs": [],
      "source": [
        "# setup the coordinates for projections along parallel views\n",
        "num_rad = 223\n",
        "num_phi = 190\n",
        "\n",
        "# radial coordinates of the projection views in mm\n",
        "r = xp.linspace(-200, 200, num_rad, dtype = xp.float32)\n",
        "# \"radius\" of the scanner in mm\n",
        "R = 350.\n",
        "\n",
        "projector = ParallelViewProjector2D(img_dim, r, num_phi, R, img_origin, voxel_size)\n",
        "\n",
        "fig = projector.show_views(image = img, cmap = 'Greys')\n",
        "\n"
      ]
    },
    {
      "cell_type": "code",
      "execution_count": null,
      "metadata": {
        "id": "ifFyRhPboJs_"
      },
      "outputs": [],
      "source": [
        "# do a non-TOF forward projection\n",
        "img_fwd = projector(img)"
      ]
    },
    {
      "cell_type": "code",
      "execution_count": null,
      "metadata": {
        "id": "P-oUKCMNLiCw"
      },
      "outputs": [],
      "source": [
        "# do a non-TOF back projection (the adjoint of the forward projection)\n",
        "img_back = projector.adjoint(img_fwd)\n"
      ]
    },
    {
      "cell_type": "code",
      "execution_count": null,
      "metadata": {
        "id": "8OqAi52kiEtf"
      },
      "outputs": [],
      "source": [
        "im_kwargs = dict(origin = 'lower', cmap = 'Greys')\n",
        "\n",
        "fig2, ax2 = plt.subplots(1,3,figsize=(12,4))\n",
        "im0 = ax2[0].imshow(tonumpy(img[0,...]).T, **im_kwargs)\n",
        "im1 = ax2[1].imshow(tonumpy(img_fwd), cmap = 'Greys')\n",
        "im2 = ax2[2].imshow(tonumpy(img_back[0,...]).T, **im_kwargs)\n",
        "ax2[0].set_title('image - x', fontsize = 'small')\n",
        "ax2[1].set_title('forward projection - Ax', fontsize = 'small')\n",
        "ax2[2].set_title('back projection of forward projection - A^HAx', fontsize = 'small'\n",
        ")\n",
        "cb0 = fig.colorbar(im0, fraction = 0.03)\n",
        "cb1 = fig.colorbar(im1, fraction = 0.03)\n",
        "cb2 = fig.colorbar(im2, fraction = 0.03)\n",
        "\n",
        "ax2[0].set_xlabel('x1')\n",
        "ax2[0].set_ylabel('x2')\n",
        "\n",
        "ax2[1].set_xlabel('radial bin')\n",
        "ax2[1].set_ylabel('view number')\n",
        "\n",
        "ax2[2].set_xlabel('x1')\n",
        "ax2[2].set_ylabel('x2')\n",
        "\n",
        "fig2.tight_layout()"
      ]
    }
  ],
  "metadata": {
    "accelerator": "GPU",
    "colab": {
      "gpuType": "T4",
      "private_outputs": true,
      "provenance": []
    },
    "kernelspec": {
      "display_name": "Python 3",
      "name": "python3"
    },
    "language_info": {
      "codemirror_mode": {
        "name": "ipython",
        "version": 3
      },
      "file_extension": ".py",
      "mimetype": "text/x-python",
      "name": "python",
      "nbconvert_exporter": "python",
      "pygments_lexer": "ipython3",
      "version": "3.11.3"
    }
  },
  "nbformat": 4,
  "nbformat_minor": 0
}
