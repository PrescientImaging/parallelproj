{
  "nbformat": 4,
  "nbformat_minor": 0,
  "metadata": {
    "colab": {
      "provenance": [],
      "gpuType": "T4",
      "private_outputs": true
    },
    "kernelspec": {
      "name": "python3",
      "display_name": "Python 3"
    },
    "language_info": {
      "name": "python"
    },
    "accelerator": "GPU"
  },
  "cells": [
    {
      "cell_type": "code",
      "source": [
        "# check if we are running in google colab\n",
        "# needed since in colab, we have to install conda and a few packages\n",
        "# from conda-forge\n",
        "\n",
        "import os\n",
        "import distutils\n",
        "import sys\n",
        "import subprocess\n",
        "\n",
        "try:\n",
        "  import google.colab\n",
        "  IN_COLAB = True\n",
        "except:\n",
        "  IN_COLAB = False\n",
        "\n",
        "from distutils import spawn\n",
        "CUDA_PRESENT = spawn.find_executable('nvidia-smi') is not None  \n",
        "\n",
        "if IN_COLAB:\n",
        "    subprocess.run([sys.executable, '-m', 'pip', 'install', 'condacolab'])\n",
        "    import condacolab\n",
        "    condacolab.install()\n",
        "    # the kernel gets restarted here (after conda install)\n",
        "    # so all variables are deleted if you run this cell\n",
        "    subprocess.run(['mamba', 'install', 'parallelproj'])\n",
        "    if CUDA_PRESENT:\n",
        "        subprocess.run(['mamba', 'install', 'cupy'])\n",
        "\n",
        "# we need to redo the check for COLAB, because the install\n",
        "# of conda on colab, restarts the kernel and deletes all variables\n",
        "try:\n",
        "  import google.colab\n",
        "  IN_COLAB = True\n",
        "except:\n",
        "  IN_COLAB = False\n",
        "\n",
        "CUDA_PRESENT = distutils.spawn.find_executable('nvidia-smi') is not None \n",
        "\n",
        "if IN_COLAB:\n",
        "    os.environ['PARALLELPROJ_C_LIB']='/usr/local/lib/libparallelproj_c.so'\n",
        "    if CUDA_PRESENT:\n",
        "        os.environ['PARALLELPROJ_CUDA_LIB']='/usr/local/lib/libparallelproj_cuda.so'\n",
        "\n",
        "print(f'notebook running in google colab: {IN_COLAB}')\n",
        "print(f'cuda present: {CUDA_PRESENT}')"
      ],
      "metadata": {
        "id": "Cq6_lFn7c6la"
      },
      "execution_count": null,
      "outputs": []
    },
    {
      "cell_type": "code",
      "source": [
        "import numpy as np\n",
        "import matplotlib.pyplot as plt\n",
        "from matplotlib.patches import Rectangle\n",
        "import parallelproj\n",
        "\n",
        "if parallelproj.cupy_enabled:\n",
        "    import cupy as cp\n",
        "    import cupy as xp\n",
        "else:\n",
        "    import numpy as xp"
      ],
      "metadata": {
        "id": "ayeJcdbRknDP"
      },
      "execution_count": null,
      "outputs": []
    },
    {
      "cell_type": "code",
      "source": [
        "def tonumpy(x):\n",
        "    \"\"\" function that converts a cupy or numpy array to an numpy array\"\"\"\n",
        "    try:\n",
        "        if cp.get_array_module(x).__name__ == 'cupy':\n",
        "            return cp.asnumpy(x)\n",
        "        else:\n",
        "            return x\n",
        "    except:\n",
        "        return x"
      ],
      "metadata": {
        "id": "3-gD-DRFk9EQ"
      },
      "execution_count": null,
      "outputs": []
    },
    {
      "cell_type": "code",
      "source": [
        "# setup a test image\n",
        "\n",
        "# image dimensions\n",
        "n0, n1, n2 = (1, 128, 128)\n",
        "img_dim = (n0, n1, n2)\n",
        "\n",
        "# voxel size of the image\n",
        "voxel_size = xp.array([2., 2., 2.]).astype(xp.float32)\n",
        "\n",
        "# image origin -> world coordinates of the [0,0,0] voxel\n",
        "img_origin = ((-xp.array(img_dim) / 2 + 0.5) * voxel_size).astype(xp.float32)\n",
        "\n",
        "# setup a random image\n",
        "img = xp.zeros((n0,n1,n2)).astype(xp.float32)\n",
        "img[:,(n1//4):((3*n1)//4), (n2//4):((3*n2)//4)] = 1\n",
        "img[:,(n1//4):(n1//3), (n2//4):(n2//3)] = 3\n"
      ],
      "metadata": {
        "id": "TP60uvgHm3_f"
      },
      "execution_count": null,
      "outputs": []
    },
    {
      "cell_type": "code",
      "source": [
        "import abc\n",
        "\n",
        "class LinearOperator(abc.ABC):\n",
        "    @property\n",
        "    @abc.abstractmethod\n",
        "    def ishape(self):\n",
        "        raise NotImplementedError\n",
        "\n",
        "    @property\n",
        "    @abc.abstractmethod\n",
        "    def oshape(self):\n",
        "        raise NotImplementedError\n",
        "\n",
        "    @abc.abstractmethod\n",
        "    def __call__(self, x):\n",
        "        \"\"\" forward step y = Ax\"\"\"\n",
        "        raise NotImplementedError\n",
        "\n",
        "    @abc.abstractmethod\n",
        "    def adjoint(self, y):\n",
        "        \"\"\" adjoint step x = A^H y\"\"\"\n",
        "        raise NotImplementedError\n",
        "\n",
        "\n",
        "class ParallelViewProjector2D(LinearOperator):\n",
        "    def __init__(self, image_shape, radial_positions, num_views, radius, image_origin, voxel_size):\n",
        "        self._image_shape = image_shape\n",
        "        self._radial_positions = radial_positions\n",
        "\n",
        "        self._num_rad = radial_positions.shape[0]\n",
        "        self._num_views = num_views\n",
        "\n",
        "        self._radius = radius\n",
        "        self._image_origin = image_origin\n",
        "        self._voxel_size = voxel_size\n",
        "\n",
        "        # array of projection angles\n",
        "        self._view_angles = xp.linspace(0, xp.pi, self._num_views, endpoint=False)\n",
        "\n",
        "        self._xstart = xp.zeros((self._num_views, self._num_rad, 3), dtype = xp.float32)\n",
        "        self._xend = xp.zeros((self._num_views, self._num_rad, 3), dtype = xp.float32)\n",
        "\n",
        "        for i, phi in enumerate(self._view_angles):\n",
        "            # world coordinates of LOR start points\n",
        "            self._xstart[i,:,1] = xp.cos(phi) * r + xp.sin(phi)*self._radius\n",
        "            self._xstart[i,:,2] = -xp.sin(phi) * r + xp.cos(phi)*self._radius\n",
        "            # world coordinates of LOR endpoints\n",
        "            self._xend[i,:,1] = xp.cos(phi) * r - xp.sin(phi)*self._radius\n",
        "            self._xend[i,:,2] = -xp.sin(phi) * r - xp.cos(phi)*self._radius\n",
        "\n",
        "    @property\n",
        "    def ishape(self):\n",
        "        return self._image_shape\n",
        "\n",
        "    @property\n",
        "    def oshape(self):\n",
        "        return (self._num_views, self._num_rad)\n",
        "\n",
        "    def __call__(self, x):\n",
        "        y = xp.zeros(self.oshape, dtype=xp.float32)\n",
        "        parallelproj.joseph3d_fwd(self._xstart.reshape(-1,3), self._xend.reshape(-1,3), x, self._image_origin, self._voxel_size, y)\n",
        "        return y\n",
        "\n",
        "    def adjoint(self, y):\n",
        "        x = xp.zeros(self.ishape, dtype=xp.float32)\n",
        "        parallelproj.joseph3d_back(self._xstart.reshape(-1,3), self._xend.reshape(-1,3), x, self._image_origin, self._voxel_size, y)\n",
        "        return x\n",
        "        \n",
        "    def show_views(self, views_to_show = None, image = None, **kwargs):\n",
        "        if views_to_show is None:\n",
        "            views_to_show = np.linspace(0, self._num_views-1, 5).astype(int)\n",
        "\n",
        "        num_cols = len(views_to_show)\n",
        "        fig, ax = plt.subplots(1, num_cols, figsize=(num_cols*3,3))\n",
        "        \n",
        "        tmp1 = float(self._image_origin[1] - 0.5*self._voxel_size[1])\n",
        "        tmp2 = float(self._image_origin[2] - 0.5*self._voxel_size[2])\n",
        "        img_extent = [tmp1,-tmp1,tmp2,-tmp2]\n",
        "        \n",
        "        for i, ip in enumerate(views_to_show):\n",
        "            ax[i].plot(tonumpy(self._xstart[ip,:,1]),tonumpy(self._xstart[ip,:,2]),'.', ms = 0.5)\n",
        "            ax[i].plot(tonumpy(self._xend[ip,:,1]),tonumpy(self._xend[ip,:,2]),'.', ms = 0.5)\n",
        "            for k in np.linspace(0, num_rad-1, 7).astype(int):\n",
        "                ax[i].plot([float(self._xstart[ip,k,1]), float(self._xend[ip,k,1])], [float(self._xstart[ip,k,2]), float(self._xend[ip,k,2])], 'k-', lw = 0.5)\n",
        "                ax[i].annotate(f'{k}', (float(self._xstart[ip,k,1]), float(self._xstart[ip,k,2])), fontsize = 'xx-small')\n",
        "            ax[i].set_xlim(-500,500)\n",
        "            ax[i].set_ylim(-500,500)\n",
        "            ax[i].grid(ls=':')\n",
        "            ax[i].set_aspect('equal')\n",
        "        \n",
        "            if img is not None:\n",
        "                ax[i].add_patch(Rectangle((tmp1, tmp2), float(self.ishape[1]*self._voxel_size[1]), float(self.ishape[2]*self._voxel_size[2]), edgecolor = 'r', facecolor = 'none', linestyle = ':'))\n",
        "                ax[i].imshow(tonumpy(image[0,...]).T, origin = 'lower', extent = img_extent, **kwargs)\n",
        "            ax[i].set_title(f'view {ip:03} - phi {(180/np.pi)*self._view_angles[ip]:.1f} deg', fontsize = 'small') \n",
        "        \n",
        "        fig.tight_layout()\n",
        "\n",
        "        return fig"
      ],
      "metadata": {
        "id": "r5Qbv-P5UzWy"
      },
      "execution_count": null,
      "outputs": []
    },
    {
      "cell_type": "code",
      "source": [
        "# setup the coordinates for projections along parallel views\n",
        "num_rad = 223\n",
        "num_phi = 190\n",
        "\n",
        "# radial coordinates of the projection views in mm\n",
        "r = xp.linspace(-200, 200, num_rad, dtype = xp.float32)\n",
        "# \"radius\" of the scanner in mm\n",
        "R = 350.\n",
        "\n",
        "projector = ParallelViewProjector2D(img_dim, r, num_phi, R, img_origin, voxel_size)\n",
        "\n",
        "fig = projector.show_views(image = img, cmap = 'Greys')\n",
        "\n"
      ],
      "metadata": {
        "id": "fLvJs_jhpbEG"
      },
      "execution_count": null,
      "outputs": []
    },
    {
      "cell_type": "code",
      "source": [
        "# do a non-TOF forward projection\n",
        "img_fwd = projector(img)"
      ],
      "metadata": {
        "id": "ifFyRhPboJs_"
      },
      "execution_count": null,
      "outputs": []
    },
    {
      "cell_type": "code",
      "source": [
        "# do a non-TOF back projection (the adjoint of the forward projection)\n",
        "img_back = projector.adjoint(img_fwd)\n"
      ],
      "metadata": {
        "id": "P-oUKCMNLiCw"
      },
      "execution_count": null,
      "outputs": []
    },
    {
      "cell_type": "code",
      "source": [
        "im_kwargs = dict(origin = 'lower', cmap = 'Greys')\n",
        "\n",
        "fig2, ax2 = plt.subplots(1,3,figsize=(12,4))\n",
        "im0 = ax2[0].imshow(tonumpy(img[0,...]).T, **im_kwargs)\n",
        "im1 = ax2[1].imshow(tonumpy(img_fwd), cmap = 'Greys')\n",
        "im2 = ax2[2].imshow(tonumpy(img_back[0,...]).T, **im_kwargs)\n",
        "ax2[0].set_title('image - x', fontsize = 'small')\n",
        "ax2[1].set_title('forward projection - Ax', fontsize = 'small')\n",
        "ax2[2].set_title('back projection of forward projection - A^HAx', fontsize = 'small'\n",
        ")\n",
        "cb0 = fig.colorbar(im0, fraction = 0.03)\n",
        "cb1 = fig.colorbar(im1, fraction = 0.03)\n",
        "cb2 = fig.colorbar(im2, fraction = 0.03)\n",
        "\n",
        "ax2[0].set_xlabel('x1')\n",
        "ax2[0].set_ylabel('x2')\n",
        "\n",
        "ax2[1].set_xlabel('radial bin')\n",
        "ax2[1].set_ylabel('view number')\n",
        "\n",
        "ax2[2].set_xlabel('x1')\n",
        "ax2[2].set_ylabel('x2')\n",
        "\n",
        "fig2.tight_layout()"
      ],
      "metadata": {
        "id": "8OqAi52kiEtf"
      },
      "execution_count": null,
      "outputs": []
    }
  ]
}